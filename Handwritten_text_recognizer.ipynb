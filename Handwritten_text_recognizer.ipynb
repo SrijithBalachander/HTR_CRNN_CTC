{
  "nbformat": 4,
  "nbformat_minor": 0,
  "metadata": {
    "colab": {
      "name": "Handwritten_text_recognizer.ipynb",
      "provenance": [],
      "authorship_tag": "ABX9TyNEf/3lWzQYJ0BdtTG8hPv+",
      "include_colab_link": true
    },
    "kernelspec": {
      "name": "python3",
      "display_name": "Python 3"
    },
    "language_info": {
      "name": "python"
    },
    "accelerator": "GPU"
  },
  "cells": [
    {
      "cell_type": "markdown",
      "metadata": {
        "id": "view-in-github",
        "colab_type": "text"
      },
      "source": [
        "<a href=\"https://colab.research.google.com/github/SrijithBalachander/HTR_CRNN_CTC/blob/main/Handwritten_text_recognizer.ipynb\" target=\"_parent\"><img src=\"https://colab.research.google.com/assets/colab-badge.svg\" alt=\"Open In Colab\"/></a>"
      ]
    },
    {
      "cell_type": "markdown",
      "source": [
        "# Handwritten Text Recognition using CNN-BiLSTM"
      ],
      "metadata": {
        "id": "JlJlzkHUgtJ5"
      }
    },
    {
      "cell_type": "markdown",
      "source": [
        "## Mounting Drive"
      ],
      "metadata": {
        "id": "t53-2613g0zR"
      }
    },
    {
      "cell_type": "code",
      "source": [
        "from google.colab import drive\n",
        "drive.mount('/content/drive')"
      ],
      "metadata": {
        "colab": {
          "base_uri": "https://localhost:8080/"
        },
        "id": "kWVP5ZTdq9MM",
        "outputId": "b1a58376-ee2f-4f22-a068-0d5ae5ade405"
      },
      "execution_count": 1,
      "outputs": [
        {
          "output_type": "stream",
          "name": "stdout",
          "text": [
            "Mounted at /content/drive\n"
          ]
        }
      ]
    },
    {
      "cell_type": "code",
      "source": [
        "!pwd"
      ],
      "metadata": {
        "colab": {
          "base_uri": "https://localhost:8080/"
        },
        "id": "rcndN7xd0UBg",
        "outputId": "3c10f716-ede7-4b49-d904-a7198962368c"
      },
      "execution_count": 2,
      "outputs": [
        {
          "output_type": "stream",
          "name": "stdout",
          "text": [
            "/content\n"
          ]
        }
      ]
    },
    {
      "cell_type": "markdown",
      "source": [
        "## Downloading IAM Dataset - Aachen Partition"
      ],
      "metadata": {
        "id": "hyQNkG3khB-T"
      }
    },
    {
      "cell_type": "code",
      "source": [
        "!wget https://raw.githubusercontent.com/omni-us/research-seq2seq-HTR/master/RWTH_partition/RWTH.iam_word_gt_final.test.thresh\n",
        "!wget https://raw.githubusercontent.com/omni-us/research-seq2seq-HTR/master/RWTH_partition/RWTH.iam_word_gt_final.train.thresh\n",
        "!wget https://raw.githubusercontent.com/omni-us/research-seq2seq-HTR/master/RWTH_partition/RWTH.iam_word_gt_final.valid.thresh"
      ],
      "metadata": {
        "colab": {
          "base_uri": "https://localhost:8080/"
        },
        "id": "8Y_rxuxIyPqB",
        "outputId": "886a20bb-7191-46b7-b661-9241e4b51180"
      },
      "execution_count": 2,
      "outputs": [
        {
          "output_type": "stream",
          "name": "stdout",
          "text": [
            "--2022-05-25 00:09:13--  https://raw.githubusercontent.com/omni-us/research-seq2seq-HTR/master/RWTH_partition/RWTH.iam_word_gt_final.test.thresh\n",
            "Resolving raw.githubusercontent.com (raw.githubusercontent.com)... 185.199.111.133, 185.199.109.133, 185.199.110.133, ...\n",
            "Connecting to raw.githubusercontent.com (raw.githubusercontent.com)|185.199.111.133|:443... connected.\n",
            "HTTP request sent, awaiting response... 200 OK\n",
            "Length: 469090 (458K) [text/plain]\n",
            "Saving to: ‘RWTH.iam_word_gt_final.test.thresh’\n",
            "\n",
            "\r          RWTH.iam_   0%[                    ]       0  --.-KB/s               \rRWTH.iam_word_gt_fi 100%[===================>] 458.10K  --.-KB/s    in 0.02s   \n",
            "\n",
            "2022-05-25 00:09:13 (20.0 MB/s) - ‘RWTH.iam_word_gt_final.test.thresh’ saved [469090/469090]\n",
            "\n",
            "--2022-05-25 00:09:13--  https://raw.githubusercontent.com/omni-us/research-seq2seq-HTR/master/RWTH_partition/RWTH.iam_word_gt_final.train.thresh\n",
            "Resolving raw.githubusercontent.com (raw.githubusercontent.com)... 185.199.111.133, 185.199.109.133, 185.199.110.133, ...\n",
            "Connecting to raw.githubusercontent.com (raw.githubusercontent.com)|185.199.111.133|:443... connected.\n",
            "HTTP request sent, awaiting response... 200 OK\n",
            "Length: 1130382 (1.1M) [text/plain]\n",
            "Saving to: ‘RWTH.iam_word_gt_final.train.thresh’\n",
            "\n",
            "RWTH.iam_word_gt_fi 100%[===================>]   1.08M  --.-KB/s    in 0.04s   \n",
            "\n",
            "2022-05-25 00:09:13 (29.8 MB/s) - ‘RWTH.iam_word_gt_final.train.thresh’ saved [1130382/1130382]\n",
            "\n",
            "--2022-05-25 00:09:14--  https://raw.githubusercontent.com/omni-us/research-seq2seq-HTR/master/RWTH_partition/RWTH.iam_word_gt_final.valid.thresh\n",
            "Resolving raw.githubusercontent.com (raw.githubusercontent.com)... 185.199.109.133, 185.199.111.133, 185.199.110.133, ...\n",
            "Connecting to raw.githubusercontent.com (raw.githubusercontent.com)|185.199.109.133|:443... connected.\n",
            "HTTP request sent, awaiting response... 200 OK\n",
            "Length: 173143 (169K) [text/plain]\n",
            "Saving to: ‘RWTH.iam_word_gt_final.valid.thresh’\n",
            "\n",
            "RWTH.iam_word_gt_fi 100%[===================>] 169.08K  --.-KB/s    in 0.02s   \n",
            "\n",
            "2022-05-25 00:09:14 (9.91 MB/s) - ‘RWTH.iam_word_gt_final.valid.thresh’ saved [173143/173143]\n",
            "\n"
          ]
        }
      ]
    },
    {
      "cell_type": "code",
      "source": [
        "!cp \"/content/drive/MyDrive/IAM_dataset/words.tgz\"  /content/\n"
      ],
      "metadata": {
        "id": "sQTw95k1FIMS"
      },
      "execution_count": 3,
      "outputs": []
    },
    {
      "cell_type": "code",
      "source": [
        "!mkdir words/\n",
        "!tar -xzf \"/content/words.tgz\" -C words/"
      ],
      "metadata": {
        "id": "gZOEtqo2X4vV"
      },
      "execution_count": 4,
      "outputs": []
    },
    {
      "cell_type": "markdown",
      "source": [
        "## Preprocessing Input Data and Labels"
      ],
      "metadata": {
        "id": "j9Ju1y1PhMVC"
      }
    },
    {
      "cell_type": "code",
      "execution_count": 5,
      "metadata": {
        "id": "Fd94BPr5fLqH"
      },
      "outputs": [],
      "source": [
        "import tensorflow as tf\n",
        "import numpy as np\n",
        "import pandas as pd\n",
        "import matplotlib.pyplot as plt\n",
        "import csv"
      ]
    },
    {
      "cell_type": "code",
      "source": [
        "import os\n",
        "import cv2\n",
        "import re"
      ],
      "metadata": {
        "id": "DdnJEZ0AHO8y"
      },
      "execution_count": 6,
      "outputs": []
    },
    {
      "cell_type": "code",
      "source": [
        "import string\n",
        "import time\n",
        "\n",
        "from keras.preprocessing.sequence import pad_sequences\n",
        "\n",
        "from keras.layers import Dense, LSTM, Reshape, BatchNormalization, Input, Conv2D, MaxPool2D, Lambda, Bidirectional\n",
        "from keras.models import Model\n",
        "from keras.activations import relu, sigmoid, softmax\n",
        "import keras.backend as K\n",
        "from tensorflow.keras.utils import to_categorical\n",
        "from keras.callbacks import ModelCheckpoint"
      ],
      "metadata": {
        "id": "DhwQptFC4Tps"
      },
      "execution_count": 7,
      "outputs": []
    },
    {
      "cell_type": "code",
      "source": [
        "char_encoding = [' ', '!', '\"', '#', '&', \"'\", '(', ')', '*', '+', ',', '-', '.', '/', '0', '1', '2', '3', '4', '5', '6', '7', '8', '9', ':', ';', '?', 'A', 'B', 'C', 'D', 'E', 'F', 'G', 'H', 'I', 'J', 'K', 'L', 'M', 'N', 'O', 'P', 'Q', 'R', 'S', 'T', 'U', 'V', 'W', 'X', 'Y', 'Z', '_', 'a', 'b', 'c', 'd', 'e', 'f', 'g', 'h', 'i', 'j', 'k', 'l', 'm', 'n', 'o', 'p', 'q', 'r', 's', 't', 'u', 'v', 'w', 'x', 'y', 'z']\n",
        "max_len_label = 0\n",
        "\n",
        "def encode_to_labels(txt):\n",
        "    # encoding each output word into digits\n",
        "    dig_lst = []\n",
        "    for index, char in enumerate(txt):\n",
        "        try:\n",
        "            dig_lst.append(char_encoding.index(char))\n",
        "        except:\n",
        "            print(char)\n",
        "        \n",
        "    return dig_lst"
      ],
      "metadata": {
        "id": "3XkGj7TYpSex"
      },
      "execution_count": 8,
      "outputs": []
    },
    {
      "cell_type": "code",
      "source": [
        "valid_path = []\n",
        "valid_label = []\n",
        "valid_label_enc = []\n",
        "valid_input_len = []\n",
        "valid_label_len = []\n",
        "\n",
        "with open(\"/content/RWTH.iam_word_gt_final.valid.thresh\") as valid_list:\n",
        "  for value in valid_list:\n",
        "    valid_path.append(value.split(\",\")[0].strip()+\".png\")\n",
        "    label = value.split(\" \",1)[1].strip()\n",
        "    valid_label.append(label)\n",
        "    valid_label_enc.append(encode_to_labels(label))\n",
        "    valid_label_len.append(len(label))\n",
        "    valid_input_len.append(31)\n",
        "\n",
        "print(valid_path[:5])\n",
        "\n",
        "max_len_label = max(max_len_label,len(max(valid_label, key=len)))\n",
        "# print(max_len_label)"
      ],
      "metadata": {
        "id": "Rj756Fi37zoZ",
        "colab": {
          "base_uri": "https://localhost:8080/"
        },
        "outputId": "875c0a5f-11b9-40d4-d94b-f88f925048c3"
      },
      "execution_count": 35,
      "outputs": [
        {
          "output_type": "stream",
          "name": "stdout",
          "text": [
            "['n02-000-00-00.png', 'n02-000-00-01.png', 'n02-000-00-02.png', 'n02-000-00-03.png', 'n02-000-00-04.png']\n"
          ]
        }
      ]
    },
    {
      "cell_type": "code",
      "source": [
        "train_path = []\n",
        "train_label = []\n",
        "train_label_enc = []\n",
        "train_input_len = []\n",
        "train_label_len = []\n",
        "\n",
        "with open(\"/content/RWTH.iam_word_gt_final.train.thresh\") as train_list:\n",
        "  for value in train_list:\n",
        "    train_path.append(value.split(\",\")[0].strip()+\".png\")\n",
        "    label = value.split(\" \",1)[1].strip()\n",
        "    train_label.append(label)\n",
        "    train_label_enc.append(encode_to_labels(label))\n",
        "    train_label_len.append(len(label))\n",
        "    train_input_len.append(31)\n",
        "\n",
        "print(train_label[:5])\n",
        "\n",
        "max_len_label = max(max_len_label,len(max(train_label, key=len)))\n",
        "# print(max_len_label)"
      ],
      "metadata": {
        "colab": {
          "base_uri": "https://localhost:8080/"
        },
        "id": "vS9sHXooBi5B",
        "outputId": "31b5e0db-7c15-4683-c151-d9d56494ce3c"
      },
      "execution_count": 36,
      "outputs": [
        {
          "output_type": "stream",
          "name": "stdout",
          "text": [
            "['are', 'many', 'reasons', '.', 'Wood']\n"
          ]
        }
      ]
    },
    {
      "cell_type": "code",
      "source": [
        "test_path = []\n",
        "test_label = []\n",
        "with open(\"/content/RWTH.iam_word_gt_final.test.thresh\") as test_list:\n",
        "  for value in test_list:\n",
        "    test_path.append(value.split(\",\")[0].strip()+\".png\")\n",
        "    test_label.append(value.split(\" \",1)[1].strip())\n",
        "\n",
        "# print(test_path)\n",
        "\n",
        "max_len_label = max(max_len_label,len(max(test_label, key=len)))\n",
        "# print(max_len_label)"
      ],
      "metadata": {
        "id": "e-5Q_096Bzux"
      },
      "execution_count": 37,
      "outputs": []
    },
    {
      "cell_type": "code",
      "source": [
        "print(max_len_label)"
      ],
      "metadata": {
        "colab": {
          "base_uri": "https://localhost:8080/"
        },
        "id": "pC0bFMjazci3",
        "outputId": "1b797fc2-73c9-48a9-aaf4-9a5a4389b95a"
      },
      "execution_count": 38,
      "outputs": [
        {
          "output_type": "stream",
          "name": "stdout",
          "text": [
            "21\n"
          ]
        }
      ]
    },
    {
      "cell_type": "code",
      "source": [
        "train_padded_txt = pad_sequences(train_label_enc, maxlen=max_len_label, padding='post', value = len(char_encoding))\n",
        "valid_padded_txt = pad_sequences(valid_label_enc, maxlen=max_len_label, padding='post', value = len(char_encoding))"
      ],
      "metadata": {
        "id": "w9zWRgXd379N"
      },
      "execution_count": 12,
      "outputs": []
    },
    {
      "cell_type": "code",
      "source": [
        "train_img = []\n",
        "valid_img = []\n",
        "test_img = []\n",
        "all_paths = {}\n",
        "\n",
        "for root, dirs, files in os.walk(\"words/\"):\n",
        "  for file in files:\n",
        "    all_paths[file]=os.path.join(root, file)\n",
        "\n",
        "\n",
        "for file in train_path:\n",
        "  if file in all_paths:\n",
        "    input_img = cv2.cvtColor(cv2.imread(all_paths[file]),cv2.COLOR_BGR2GRAY)\n",
        "    # input_img = cv2.imread(all_paths[file])\n",
        "    # print(input_img.shape, type(input_img))\n",
        "    # print(input_img)\n",
        "    input_img = cv2.resize(input_img, (128,32))\n",
        "    # print(input_img.shape)\n",
        "    # print(input_img)\n",
        "    input_img = np.expand_dims(input_img, axis=2)\n",
        "    # input_img = cv2.resize(input_img, (128,32))\n",
        "    # print(input_img.shape)\n",
        "    input_img = input_img/255\n",
        "    # print(input_img)\n",
        "    train_img.append(input_img)\n",
        "\n",
        "for file in valid_path:\n",
        "  if file in all_paths:\n",
        "    input_img = cv2.cvtColor(cv2.imread(all_paths[file]),cv2.COLOR_BGR2GRAY)\n",
        "    input_img = cv2.resize(input_img, (128,32))\n",
        "    input_img = np.expand_dims(input_img, axis=2)\n",
        "    input_img = input_img/255\n",
        "    valid_img.append(input_img)\n",
        "\n",
        "for file in test_path:\n",
        "  if file in all_paths:\n",
        "    input_img = cv2.cvtColor(cv2.imread(all_paths[file]),cv2.COLOR_BGR2GRAY)\n",
        "    input_img = cv2.resize(input_img, (128,32))\n",
        "    input_img = np.expand_dims(input_img, axis=2)\n",
        "    input_img = input_img/255\n",
        "    test_img.append(input_img)\n",
        "\n",
        "  # elif file in valid_path:\n",
        "  #   valid_img.append(cv2.imread(os.path.join(root, file)))\n",
        "\n",
        "  # elif file in test_path:\n",
        "  #   test_img.append(cv2.imread(os.path.join(root, file)))\n",
        "\n",
        "print(test_img[0].shape)\n",
        "print(len(train_img), len(test_img), len(valid_img))"
      ],
      "metadata": {
        "id": "oOdFtu0JFPtU",
        "colab": {
          "base_uri": "https://localhost:8080/"
        },
        "outputId": "e0926942-be77-48f6-9642-101ff486be03"
      },
      "execution_count": 13,
      "outputs": [
        {
          "output_type": "stream",
          "name": "stdout",
          "text": [
            "(32, 128, 1)\n",
            "47981 20305 7554\n"
          ]
        }
      ]
    },
    {
      "cell_type": "code",
      "source": [
        "from google.colab.patches import cv2_imshow\n",
        "cv2_imshow(train_img[0]*255)\n",
        "print(train_label[0])\n",
        "\n",
        "cv2_imshow(valid_img[0]*255)\n",
        "print(valid_label[0])\n",
        "\n",
        "cv2_imshow(test_img[0]*255)\n",
        "print(test_label[0])"
      ],
      "metadata": {
        "colab": {
          "base_uri": "https://localhost:8080/",
          "height": 165
        },
        "id": "V1d0m1k3YkLE",
        "outputId": "667e5683-6dca-4e41-d0dd-f2b0f4ba28a7"
      },
      "execution_count": 14,
      "outputs": [
        {
          "output_type": "display_data",
          "data": {
            "text/plain": [
              "<PIL.Image.Image image mode=RGB size=128x32 at 0x7F5CB17AAB10>"
            ],
            "image/png": "[encoded data removed]"
          },
          "metadata": {}
        },
        {
          "output_type": "stream",
          "name": "stdout",
          "text": [
            "are\n"
          ]
        },
        {
          "output_type": "display_data",
          "data": {
            "text/plain": [
              "<PIL.Image.Image image mode=RGB size=128x32 at 0x7F5CA2F90150>"
            ],
            "image/png": "[encoded data removed]"
          },
          "metadata": {}
        },
        {
          "output_type": "stream",
          "name": "stdout",
          "text": [
            "DARKNESS\n"
          ]
        },
        {
          "output_type": "display_data",
          "data": {
            "text/plain": [
              "<PIL.Image.Image image mode=RGB size=128x32 at 0x7F5CA2FA4210>"
            ],
            "image/png": "[encoded data removed]"
          },
          "metadata": {}
        },
        {
          "output_type": "stream",
          "name": "stdout",
          "text": [
            "on\n"
          ]
        }
      ]
    },
    {
      "cell_type": "markdown",
      "source": [
        "## Network Architecture\n",
        "\n",
        "Based on [this](https://arxiv.org/pdf/1507.05717.pdf) paper and [this](https://theailearner.com/2019/05/29/creating-a-crnn-model-to-recognize-text-in-an-image-part-1/) blog."
      ],
      "metadata": {
        "id": "uWdR3eZe51eJ"
      }
    },
    {
      "cell_type": "code",
      "source": [
        "# input with shape of height=32 and width=128 \n",
        "inputs = Input(shape=(32,128,1))\n",
        " \n",
        "# convolution layer with kernel size (3,3)\n",
        "conv_1 = Conv2D(64, (3,3), activation = 'relu', padding='same')(inputs)\n",
        "# poolig layer with kernel size (2,2)\n",
        "pool_1 = MaxPool2D(pool_size=(2, 2), strides=2)(conv_1)\n",
        " \n",
        "conv_2 = Conv2D(128, (3,3), activation = 'relu', padding='same')(pool_1)\n",
        "pool_2 = MaxPool2D(pool_size=(2, 2), strides=2)(conv_2)\n",
        " \n",
        "conv_3 = Conv2D(256, (3,3), activation = 'relu', padding='same')(pool_2)\n",
        " \n",
        "conv_4 = Conv2D(256, (3,3), activation = 'relu', padding='same')(conv_3)\n",
        "# poolig layer with kernel size (2,1)\n",
        "pool_4 = MaxPool2D(pool_size=(2, 1))(conv_4)\n",
        " \n",
        "conv_5 = Conv2D(512, (3,3), activation = 'relu', padding='same')(pool_4)\n",
        "# Batch normalization layer\n",
        "batch_norm_5 = BatchNormalization()(conv_5)\n",
        " \n",
        "conv_6 = Conv2D(512, (3,3), activation = 'relu', padding='same')(batch_norm_5)\n",
        "batch_norm_6 = BatchNormalization()(conv_6)\n",
        "pool_6 = MaxPool2D(pool_size=(2, 1))(batch_norm_6)\n",
        " \n",
        "conv_7 = Conv2D(512, (2,2), activation = 'relu')(pool_6)\n",
        " \n",
        "squeezed = Lambda(lambda x: K.squeeze(x, 1))(conv_7)\n",
        " \n",
        "# bidirectional LSTM layers with units=128\n",
        "blstm_1 = Bidirectional(LSTM(128, return_sequences=True, dropout = 0.2))(squeezed)\n",
        "blstm_2 = Bidirectional(LSTM(128, return_sequences=True, dropout = 0.2))(blstm_1)\n",
        " \n",
        "outputs = Dense(len(char_encoding)+1, activation = 'softmax')(blstm_2)\n",
        "\n",
        "# model to be used at test time\n",
        "act_model = Model(inputs, outputs)"
      ],
      "metadata": {
        "id": "gKnkuliekHbm"
      },
      "execution_count": 15,
      "outputs": []
    },
    {
      "cell_type": "code",
      "source": [
        "act_model.summary()"
      ],
      "metadata": {
        "id": "uG0cubQcgb7G",
        "colab": {
          "base_uri": "https://localhost:8080/"
        },
        "outputId": "2f09b21b-3919-48d0-d4ac-9cf48e91269a"
      },
      "execution_count": 16,
      "outputs": [
        {
          "output_type": "stream",
          "name": "stdout",
          "text": [
            "Model: \"model\"\n",
            "_________________________________________________________________\n",
            " Layer (type)                Output Shape              Param #   \n",
            "=================================================================\n",
            " input_1 (InputLayer)        [(None, 32, 128, 1)]      0         \n",
            "                                                                 \n",
            " conv2d (Conv2D)             (None, 32, 128, 64)       640       \n",
            "                                                                 \n",
            " max_pooling2d (MaxPooling2D  (None, 16, 64, 64)       0         \n",
            " )                                                               \n",
            "                                                                 \n",
            " conv2d_1 (Conv2D)           (None, 16, 64, 128)       73856     \n",
            "                                                                 \n",
            " max_pooling2d_1 (MaxPooling  (None, 8, 32, 128)       0         \n",
            " 2D)                                                             \n",
            "                                                                 \n",
            " conv2d_2 (Conv2D)           (None, 8, 32, 256)        295168    \n",
            "                                                                 \n",
            " conv2d_3 (Conv2D)           (None, 8, 32, 256)        590080    \n",
            "                                                                 \n",
            " max_pooling2d_2 (MaxPooling  (None, 4, 32, 256)       0         \n",
            " 2D)                                                             \n",
            "                                                                 \n",
            " conv2d_4 (Conv2D)           (None, 4, 32, 512)        1180160   \n",
            "                                                                 \n",
            " batch_normalization (BatchN  (None, 4, 32, 512)       2048      \n",
            " ormalization)                                                   \n",
            "                                                                 \n",
            " conv2d_5 (Conv2D)           (None, 4, 32, 512)        2359808   \n",
            "                                                                 \n",
            " batch_normalization_1 (Batc  (None, 4, 32, 512)       2048      \n",
            " hNormalization)                                                 \n",
            "                                                                 \n",
            " max_pooling2d_3 (MaxPooling  (None, 2, 32, 512)       0         \n",
            " 2D)                                                             \n",
            "                                                                 \n",
            " conv2d_6 (Conv2D)           (None, 1, 31, 512)        1049088   \n",
            "                                                                 \n",
            " lambda (Lambda)             (None, 31, 512)           0         \n",
            "                                                                 \n",
            " bidirectional (Bidirectiona  (None, 31, 256)          656384    \n",
            " l)                                                              \n",
            "                                                                 \n",
            " bidirectional_1 (Bidirectio  (None, 31, 256)          394240    \n",
            " nal)                                                            \n",
            "                                                                 \n",
            " dense (Dense)               (None, 31, 81)            20817     \n",
            "                                                                 \n",
            "=================================================================\n",
            "Total params: 6,624,337\n",
            "Trainable params: 6,622,289\n",
            "Non-trainable params: 2,048\n",
            "_________________________________________________________________\n"
          ]
        }
      ]
    },
    {
      "cell_type": "code",
      "source": [
        "labels = Input(name='the_labels', shape=[max_len_label], dtype='float32')\n",
        "input_length = Input(name='input_length', shape=[1], dtype='int64')\n",
        "label_length = Input(name='label_length', shape=[1], dtype='int64')\n",
        "\n",
        "def ctc_lambda_func(args):\n",
        "    y_pred, labels, input_length, label_length = args\n",
        " \n",
        "    return K.ctc_batch_cost(labels, y_pred, input_length, label_length)\n",
        "\n",
        "loss_out = Lambda(ctc_lambda_func, output_shape=(1,), name='ctc')([outputs, labels, input_length, label_length])\n",
        "\n",
        "#model to be used at training time\n",
        "model = Model(inputs=[inputs, labels, input_length, label_length], outputs=loss_out)"
      ],
      "metadata": {
        "id": "Sxm3Z40EM9qE"
      },
      "execution_count": 17,
      "outputs": []
    },
    {
      "cell_type": "code",
      "source": [
        "model.compile(loss={'ctc': lambda y_true, y_pred: y_pred}, optimizer = 'adam')\n",
        " \n",
        "filepath=\"best_model.hdf5\"\n",
        "checkpoint = ModelCheckpoint(filepath=filepath, monitor='val_loss', verbose=1, save_best_only=True, mode='auto')\n",
        "callbacks_list = [checkpoint]"
      ],
      "metadata": {
        "id": "q3sFjkN_Oaq9"
      },
      "execution_count": 18,
      "outputs": []
    },
    {
      "cell_type": "code",
      "source": [
        "training_img = np.array(train_img)\n",
        "train_input_length = np.array(train_input_len)\n",
        "train_label_length = np.array(train_label_len)\n",
        "\n",
        "valid_img = np.array(valid_img)\n",
        "valid_input_length = np.array(valid_input_len)\n",
        "valid_label_length = np.array(valid_label_len)"
      ],
      "metadata": {
        "id": "a4FUS9W5ObeY"
      },
      "execution_count": 19,
      "outputs": []
    },
    {
      "cell_type": "code",
      "source": [
        "model.fit(x=[training_img, train_padded_txt, train_input_length, train_label_length], y=np.zeros(len(train_label_len)), batch_size=256, epochs = 10, validation_data = ([valid_img, valid_padded_txt, valid_input_length, valid_label_length], [np.zeros(len(valid_input_len))]), verbose = 1, callbacks = callbacks_list)"
      ],
      "metadata": {
        "colab": {
          "base_uri": "https://localhost:8080/"
        },
        "id": "z77bdpStOdOp",
        "outputId": "e1f22915-e1bc-456b-96ee-7c2d3d57ee36"
      },
      "execution_count": 20,
      "outputs": [
        {
          "output_type": "stream",
          "name": "stdout",
          "text": [
            "Epoch 1/10\n",
            "188/188 [==============================] - ETA: 0s - loss: 15.5817\n",
            "Epoch 1: val_loss improved from inf to 18.80876, saving model to best_model.hdf5\n",
            "188/188 [==============================] - 98s 404ms/step - loss: 15.5817 - val_loss: 18.8088\n",
            "Epoch 2/10\n",
            "188/188 [==============================] - ETA: 0s - loss: 12.5838\n",
            "Epoch 2: val_loss did not improve from 18.80876\n",
            "188/188 [==============================] - 66s 350ms/step - loss: 12.5838 - val_loss: 27.6343\n",
            "Epoch 3/10\n",
            "188/188 [==============================] - ETA: 0s - loss: 10.7442\n",
            "Epoch 3: val_loss did not improve from 18.80876\n",
            "188/188 [==============================] - 66s 354ms/step - loss: 10.7442 - val_loss: 25.0131\n",
            "Epoch 4/10\n",
            "188/188 [==============================] - ETA: 0s - loss: 9.1673\n",
            "Epoch 4: val_loss improved from 18.80876 to 16.41804, saving model to best_model.hdf5\n",
            "188/188 [==============================] - 67s 356ms/step - loss: 9.1673 - val_loss: 16.4180\n",
            "Epoch 5/10\n",
            "188/188 [==============================] - ETA: 0s - loss: 7.1320\n",
            "Epoch 5: val_loss did not improve from 16.41804\n",
            "188/188 [==============================] - 66s 349ms/step - loss: 7.1320 - val_loss: 21.2213\n",
            "Epoch 6/10\n",
            "188/188 [==============================] - ETA: 0s - loss: 4.6118\n",
            "Epoch 6: val_loss improved from 16.41804 to 4.98370, saving model to best_model.hdf5\n",
            "188/188 [==============================] - 66s 351ms/step - loss: 4.6118 - val_loss: 4.9837\n",
            "Epoch 7/10\n",
            "188/188 [==============================] - ETA: 0s - loss: 3.2944\n",
            "Epoch 7: val_loss improved from 4.98370 to 3.62737, saving model to best_model.hdf5\n",
            "188/188 [==============================] - 66s 348ms/step - loss: 3.2944 - val_loss: 3.6274\n",
            "Epoch 8/10\n",
            "188/188 [==============================] - ETA: 0s - loss: 2.5900\n",
            "Epoch 8: val_loss improved from 3.62737 to 2.48572, saving model to best_model.hdf5\n",
            "188/188 [==============================] - 65s 348ms/step - loss: 2.5900 - val_loss: 2.4857\n",
            "Epoch 9/10\n",
            "188/188 [==============================] - ETA: 0s - loss: 2.1066\n",
            "Epoch 9: val_loss improved from 2.48572 to 2.05520, saving model to best_model.hdf5\n",
            "188/188 [==============================] - 66s 350ms/step - loss: 2.1066 - val_loss: 2.0552\n",
            "Epoch 10/10\n",
            "188/188 [==============================] - ETA: 0s - loss: 1.7671\n",
            "Epoch 10: val_loss improved from 2.05520 to 1.96032, saving model to best_model.hdf5\n",
            "188/188 [==============================] - 66s 350ms/step - loss: 1.7671 - val_loss: 1.9603\n"
          ]
        },
        {
          "output_type": "execute_result",
          "data": {
            "text/plain": [
              "<keras.callbacks.History at 0x7f5c902a8ad0>"
            ]
          },
          "metadata": {},
          "execution_count": 20
        }
      ]
    },
    {
      "cell_type": "code",
      "source": [
        "test_img = np.array(test_img)\n",
        "# test_input_length = np.array(test_input_len)\n",
        "# test_label_length = np.array(test_label_len)"
      ],
      "metadata": {
        "id": "huQhAUNetts0"
      },
      "execution_count": 30,
      "outputs": []
    },
    {
      "cell_type": "code",
      "source": [
        "# load the saved best model weights\n",
        "act_model.load_weights('best_model.hdf5')\n",
        "\n",
        "# predict outputs on validation images\n",
        "prediction = act_model.predict(test_img)\n",
        "\n",
        "# use CTC decoder\n",
        "out = K.get_value(K.ctc_decode(prediction, input_length=np.ones(prediction.shape[0])*prediction.shape[1],\n",
        "                         greedy=True)[0][0])\n",
        "\n",
        "predicted_labels = [\"\".join([char_encoding[x] for x in img if x != -1]) for img in out]\n",
        "# print([\"\".join([char_encoding[x] for x in img if x != -1]) for img in out])\n",
        "# print(predicted_labels[:10])"
      ],
      "metadata": {
        "id": "Gy7CiKAVOkHb"
      },
      "execution_count": null,
      "outputs": []
    },
    {
      "cell_type": "code",
      "source": [
        "for i in range(10):\n",
        "  cv2_imshow(test_img[i]*255)\n",
        "  print(test_label[i])\n",
        "  print(predicted_labels[i])"
      ],
      "metadata": {
        "colab": {
          "base_uri": "https://localhost:8080/",
          "height": 684
        },
        "id": "Twv1NTikvj5N",
        "outputId": "64b132e2-613c-4077-8bff-f3a5a723991f"
      },
      "execution_count": 33,
      "outputs": [
        {
          "output_type": "display_data",
          "data": {
            "text/plain": [
              "<PIL.Image.Image image mode=RGB size=128x32 at 0x7F5BCBD80F10>"
            ],
            "image/png": "[encoded data removed]"
          },
          "metadata": {}
        },
        {
          "output_type": "stream",
          "name": "stdout",
          "text": [
            "on\n",
            "on\n"
          ]
        },
        {
          "output_type": "display_data",
          "data": {
            "text/plain": [
              "<PIL.Image.Image image mode=RGB size=128x32 at 0x7F5BCBD80AD0>"
            ],
            "image/png": "[encoded data removed]"
          },
          "metadata": {}
        },
        {
          "output_type": "stream",
          "name": "stdout",
          "text": [
            "the\n",
            "the\n"
          ]
        },
        {
          "output_type": "display_data",
          "data": {
            "text/plain": [
              "<PIL.Image.Image image mode=RGB size=128x32 at 0x7F5BCBD80A50>"
            ],
            "image/png": "[encoded data removed]"
          },
          "metadata": {}
        },
        {
          "output_type": "stream",
          "name": "stdout",
          "text": [
            "cosmic\n",
            "cosaric\n"
          ]
        },
        {
          "output_type": "display_data",
          "data": {
            "text/plain": [
              "<PIL.Image.Image image mode=RGB size=128x32 at 0x7F5BCBD80B10>"
            ],
            "image/png": "[encoded data removed]"
          },
          "metadata": {}
        },
        {
          "output_type": "stream",
          "name": "stdout",
          "text": [
            "handiwork\n",
            "handivork\n"
          ]
        },
        {
          "output_type": "display_data",
          "data": {
            "text/plain": [
              "<PIL.Image.Image image mode=RGB size=128x32 at 0x7F5BCBF07310>"
            ],
            "image/png": "[encoded data removed]"
          },
          "metadata": {}
        },
        {
          "output_type": "stream",
          "name": "stdout",
          "text": [
            ".\n",
            ",\n"
          ]
        },
        {
          "output_type": "display_data",
          "data": {
            "text/plain": [
              "<PIL.Image.Image image mode=RGB size=128x32 at 0x7F5BCBD80DD0>"
            ],
            "image/png": "[encoded data removed]"
          },
          "metadata": {}
        },
        {
          "output_type": "stream",
          "name": "stdout",
          "text": [
            "'\n",
            "\"\n"
          ]
        },
        {
          "output_type": "display_data",
          "data": {
            "text/plain": [
              "<PIL.Image.Image image mode=RGB size=128x32 at 0x7F5BCBD80F90>"
            ],
            "image/png": "[encoded data removed]"
          },
          "metadata": {}
        },
        {
          "output_type": "stream",
          "name": "stdout",
          "text": [
            "All\n",
            "Al\n"
          ]
        },
        {
          "output_type": "display_data",
          "data": {
            "text/plain": [
              "<PIL.Image.Image image mode=RGB size=128x32 at 0x7F5BCBD80BD0>"
            ],
            "image/png": "[encoded data removed]"
          },
          "metadata": {}
        },
        {
          "output_type": "stream",
          "name": "stdout",
          "text": [
            "those\n",
            "those\n"
          ]
        },
        {
          "output_type": "display_data",
          "data": {
            "text/plain": [
              "<PIL.Image.Image image mode=RGB size=128x32 at 0x7F5BCBD80B50>"
            ],
            "image/png": "[encoded data removed]"
          },
          "metadata": {}
        },
        {
          "output_type": "stream",
          "name": "stdout",
          "text": [
            "stars\n",
            "stars\n"
          ]
        },
        {
          "output_type": "display_data",
          "data": {
            "text/plain": [
              "<PIL.Image.Image image mode=RGB size=128x32 at 0x7F5BCBD809D0>"
            ],
            "image/png": "[encoded data removed]"
          },
          "metadata": {}
        },
        {
          "output_type": "stream",
          "name": "stdout",
          "text": [
            ".\n",
            ".\n"
          ]
        }
      ]
    },
    {
      "cell_type": "code",
      "source": [
        ""
      ],
      "metadata": {
        "id": "rsf04SbXu_Md"
      },
      "execution_count": null,
      "outputs": []
    },
    {
      "cell_type": "code",
      "source": [
        "drive.flush_and_unmount()"
      ],
      "metadata": {
        "id": "0Mmi7IIf0NCy"
      },
      "execution_count": null,
      "outputs": []
    }
  ]
}